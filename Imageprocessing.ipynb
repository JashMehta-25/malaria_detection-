{
 "cells": [
  {
   "cell_type": "markdown",
   "metadata": {},
   "source": [
    "\n",
    "# Malaria detection using machine learning algorthims"
   ]
  },
  {
   "cell_type": "markdown",
   "metadata": {},
   "source": [
    "![](C33P1thinF_IMG_20150619_114756a_cell_179.jpg)"
   ]
  },
  {
   "cell_type": "markdown",
   "metadata": {},
   "source": [
    "# Images of infected blood cells \n",
    "![](C33P1thinF_IMG_20150619_114756a_cell_180.png),![](C33P1thinF_IMG_20150619_114756a_cell_179.png),![](C33P1thinF_IMG_20150619_114756a_cell_181.png)"
   ]
  },
  {
   "cell_type": "markdown",
   "metadata": {},
   "source": [
    "# images of uninfected blood cells\n",
    "![](C1_thinF_IMG_20150604_104722_cell_9.png)\n",
    "![](C1_thinF_IMG_20150604_104722_cell_15.png)\n",
    "![](C1_thinF_IMG_20150604_104722_cell_60.png)"
   ]
  },
  {
   "cell_type": "code",
   "execution_count": 1,
   "metadata": {},
   "outputs": [],
   "source": [
    "import numpy as np\n",
    "import pandas as pd \n",
    "import cv2,os\n",
    "import csv\n",
    "import glob"
   ]
  },
  {
   "cell_type": "code",
   "execution_count": 2,
   "metadata": {},
   "outputs": [],
   "source": [
    "label =\"Uninfected\"\n",
    "dirlist =glob.glob(\"H:/cse/ML project/cell_images/\"+label+\"/*.png\")#path for the images \n",
    "file = open(\"H:/cse/ML project/csv/project.csv\",\"a\") #path for the create csv file "
   ]
  },
  {
   "cell_type": "code",
   "execution_count": 3,
   "metadata": {},
   "outputs": [
    {
     "data": {
      "text/plain": [
       "-1"
      ]
     },
     "execution_count": 3,
     "metadata": {},
     "output_type": "execute_result"
    }
   ],
   "source": [
    "for img_path in dirlist:\n",
    "    im = cv2.imread(img_path)\n",
    "    im = cv2.GaussianBlur(im,(5,5),2)  \n",
    "    im_gray = cv2.cvtColor(im,cv2.COLOR_BGR2GRAY)#preprocssing covertinga rgb to grayscale image\n",
    "    ret,thresh = cv2.threshold(im_gray,127,255,0)\n",
    "    _,contours,_ =cv2.findContours(thresh,1,2)#Making Contours to the grayscale image  \n",
    "    file.write(label)\n",
    "    file.write(\",\")\n",
    "\n",
    "    for i in range(5):\n",
    "        try:\n",
    "            area = cv2.contourArea(contours[i])#finding the areas of all the contours\n",
    "            file.write(str(area))\n",
    "        except:\n",
    "            file.write(\"0\")\n",
    "        file.write(\",\")\n",
    "    file.write(\"\\n\")\n",
    "\n",
    "\n",
    "cv2.waitKey(19000)\n"
   ]
  }
 ],
 "metadata": {
  "kernelspec": {
   "display_name": "Python 3",
   "language": "python",
   "name": "python3"
  },
  "language_info": {
   "codemirror_mode": {
    "name": "ipython",
    "version": 3
   },
   "file_extension": ".py",
   "mimetype": "text/x-python",
   "name": "python",
   "nbconvert_exporter": "python",
   "pygments_lexer": "ipython3",
   "version": "3.7.6"
  }
 },
 "nbformat": 4,
 "nbformat_minor": 4
}
